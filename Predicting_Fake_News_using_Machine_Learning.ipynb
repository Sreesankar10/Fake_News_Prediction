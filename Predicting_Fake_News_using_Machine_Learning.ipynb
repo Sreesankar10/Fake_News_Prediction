{
 "cells": [
  {
   "cell_type": "markdown",
   "metadata": {
    "id": "qrdloi0tf-UV"
   },
   "source": [
    "# Getting Started"
   ]
  },
  {
   "cell_type": "code",
   "execution_count": 15,
   "metadata": {
    "colab": {
     "base_uri": "https://localhost:8080/"
    },
    "id": "vgKBIqAWNc8u",
    "outputId": "70c14564-1534-4011-b2c0-fd0bd50b6ee2"
   },
   "outputs": [],
   "source": [
    "''' Required for Google Colab'''\n",
    "\n",
    "# Mount GDrive\n",
    "# from google.colab import drive\n",
    "# drive.mount('/content/drive')\n",
    "\n",
    "# # Upload Kaggle json\n",
    "\n",
    "# !pip install -q kaggle\n",
    "# !pip install -q kaggle-cli\n",
    "# !mkdir -p ~/.kaggle\n",
    "# !cp \"/content/drive/My Drive/Kaggle/kaggle.json\" ~/.kaggle/\n",
    "# !cat ~/.kaggle/kaggle.json \n",
    "# !chmod 600 ~/.kaggle/kaggle.json\n",
    "# !kaggle competitions download -c fake-news -p dataset\n",
    "# !unzip /content/dataset/train.csv.zip\n",
    "# !unzip /content/dataset/test.csv.zip"
   ]
  },
  {
   "cell_type": "code",
   "execution_count": null,
   "metadata": {},
   "outputs": [],
   "source": [
    "''' Required for Google Colab'''\n",
    "# !pip install contractions"
   ]
  },
  {
   "cell_type": "code",
   "execution_count": 16,
   "metadata": {
    "colab": {
     "base_uri": "https://localhost:8080/"
    },
    "id": "CYBAcN3JOmkI",
    "outputId": "7bc693f4-eb01-49e3-b8a3-b32eb1aad6fd"
   },
   "outputs": [],
   "source": [
    "import pandas as pd\n",
    "import numpy as np\n",
    "\n",
    "import matplotlib.pyplot as plt\n",
    "from matplotlib import rcParams\n",
    "plt.rcParams['figure.figsize'] = [10,10]\n",
    "import seaborn as sns\n",
    "sns.set_theme(style=\"darkgrid\")\n",
    "\n",
    "import nltk\n",
    "from nltk import sent_tokenize\n",
    "''' Required for Google Colab'''\n",
    "# nltk.download('punkt')\n",
    "# nltk.download('averaged_perceptron_tagger')\n",
    "# nltk.download('stopwords')\n",
    "''' Required for Google Colab'''\n",
    "from nltk.corpus import stopwords\n",
    "stopwords = nltk.corpus.stopwords.words('english')\n",
    "from nltk.tokenize import word_tokenize\n",
    "import contractions\n",
    "\n",
    "import string\n",
    "import joblib\n",
    "import re\n",
    "\n",
    "from sklearn.model_selection import train_test_split\n",
    "from sklearn.feature_extraction.text import TfidfTransformer\n",
    "from sklearn.feature_extraction.text import CountVectorizer\n",
    "from sklearn.naive_bayes import MultinomialNB\n",
    "from sklearn.linear_model import LogisticRegression\n",
    "from sklearn.ensemble import RandomForestClassifier, GradientBoostingClassifier, AdaBoostClassifier\n",
    "from sklearn.tree import DecisionTreeClassifier\n",
    "from sklearn.metrics import precision_score, recall_score, f1_score, accuracy_score\n",
    "from sklearn.model_selection import GridSearchCV\n",
    "\n",
    "import warnings\n",
    "warnings.filterwarnings('ignore')"
   ]
  },
  {
   "cell_type": "code",
   "execution_count": null,
   "metadata": {},
   "outputs": [],
   "source": [
    "''' Required for Google Colab'''\n",
    "# train_df = pd.read_csv('/content/train.csv', header=0)\n",
    "# test_df = pd.read_csv('/content/test.csv', header=0)"
   ]
  },
  {
   "cell_type": "code",
   "execution_count": 17,
   "metadata": {
    "id": "Thtim9SaOmpW"
   },
   "outputs": [],
   "source": [
    "train_df = pd.read_csv('fake-news/train.csv', header=0)\n",
    "test_df = pd.read_csv('fake-news/test.csv', header=0)"
   ]
  },
  {
   "cell_type": "code",
   "execution_count": 18,
   "metadata": {
    "colab": {
     "base_uri": "https://localhost:8080/"
    },
    "id": "F1QyRXp7dtAo",
    "outputId": "a4cd8bb2-10d9-4367-9e7e-61c425930896"
   },
   "outputs": [
    {
     "name": "stdout",
     "output_type": "stream",
     "text": [
      "116\n"
     ]
    }
   ],
   "source": [
    "train_df = train_df.fillna(' ')\n",
    "test_df = test_df.fillna(' ')\n",
    "\n",
    "train_df['text'] = train_df['text'].str.strip()\n",
    "test_df['text'] = test_df['text'].str.strip()\n",
    "\n",
    "train_df['raw_text_length'] = train_df['text'].apply(lambda x: len(x))\n",
    "print(len(train_df[train_df['raw_text_length']==0]))"
   ]
  },
  {
   "cell_type": "code",
   "execution_count": 19,
   "metadata": {
    "colab": {
     "base_uri": "https://localhost:8080/"
    },
    "id": "1frVhmo8L0Lk",
    "outputId": "13bf7341-1a4c-4395-8e99-de68b7c20305"
   },
   "outputs": [
    {
     "data": {
      "text/plain": [
       "(20684, 6)"
      ]
     },
     "execution_count": 19,
     "metadata": {},
     "output_type": "execute_result"
    }
   ],
   "source": [
    "train_df = train_df[train_df['raw_text_length'] > 0]\n",
    "train_df.shape"
   ]
  },
  {
   "cell_type": "markdown",
   "metadata": {
    "id": "B7V_E1O7a6GB"
   },
   "source": [
    "## Text Cleaning\n",
    "\n",
    "1. Remove special characters\n",
    "2. Expand contractions\n",
    "3. Convert to lower-case\n",
    "4. Word Tokenize\n",
    "5. Remove Stopwords"
   ]
  },
  {
   "cell_type": "code",
   "execution_count": 20,
   "metadata": {
    "id": "cZ0vgCArkSMr"
   },
   "outputs": [],
   "source": [
    "def preprocess_text(x):\n",
    "    cleaned_text = re.sub(r'[^a-zA-Z\\d\\s\\']+', '', x)\n",
    "    word_list = []\n",
    "    for each_word in cleaned_text.split(' '):\n",
    "        try:\n",
    "            word_list.append(contractions.fix(each_word).lower())\n",
    "        except:\n",
    "            print(x)\n",
    "    return \" \".join(word_list)"
   ]
  },
  {
   "cell_type": "markdown",
   "metadata": {
    "id": "S46w8RTQl68C"
   },
   "source": [
    "## Got Error because of some sort of Turkish/Slavic language\n",
    "ABÇin ilişkilerinde ABD ve NATOnun etkisi yazan Manlio Dinucci Uluslararası bir forumda konuşan İtalyan coğrafyacı Manlio Dinucci ABDnin tüm dünyaya egemen olabilmek için sahip olduğu silahların analizini bireşimleştirdi Suriye Rusya ve Çinin bugün elde silah herkesin açıkça kabul ettiği bu üstünlüğü dünyanın bu tek kutuplu örgütlenişi tartışılır hale getirmesinden dolayı bu makale daha da önem kazanmaktadır\n",
    "\n",
    "\n",
    "Therefore I rearranged the order of preprocessing\n"
   ]
  },
  {
   "cell_type": "code",
   "execution_count": 21,
   "metadata": {
    "id": "UzyElDkakeoE"
   },
   "outputs": [],
   "source": [
    "text_cols = ['text', 'title', 'author']"
   ]
  },
  {
   "cell_type": "code",
   "execution_count": 22,
   "metadata": {
    "colab": {
     "base_uri": "https://localhost:8080/"
    },
    "id": "h7tWp8Awl6LZ",
    "outputId": "55842693-f743-4cfd-98d0-7a7229a7cdbf"
   },
   "outputs": [
    {
     "name": "stdout",
     "output_type": "stream",
     "text": [
      "Processing column: text\n",
      "Processing column: title\n",
      "Processing column: author\n",
      "Wall time: 1min 5s\n"
     ]
    }
   ],
   "source": [
    "%%time\n",
    "for col in text_cols:\n",
    "    print(\"Processing column: {}\".format(col))\n",
    "    train_df[col] = train_df[col].apply(lambda x: preprocess_text(x))\n",
    "    test_df[col] = test_df[col].apply(lambda x: preprocess_text(x))"
   ]
  },
  {
   "cell_type": "code",
   "execution_count": 23,
   "metadata": {
    "colab": {
     "base_uri": "https://localhost:8080/"
    },
    "id": "0MFupIrYikkB",
    "outputId": "2b2f3c53-f9dc-45d6-8308-9f1358f14113"
   },
   "outputs": [
    {
     "name": "stdout",
     "output_type": "stream",
     "text": [
      "Processing column: text\n",
      "Processing column: title\n",
      "Processing column: author\n",
      "Wall time: 1min 9s\n"
     ]
    }
   ],
   "source": [
    "%%time\n",
    "for col in text_cols:\n",
    "    print(\"Processing column: {}\".format(col))\n",
    "    train_df[col] = train_df[col].apply(word_tokenize)\n",
    "    test_df[col] = test_df[col].apply(word_tokenize)"
   ]
  },
  {
   "cell_type": "code",
   "execution_count": 24,
   "metadata": {
    "colab": {
     "base_uri": "https://localhost:8080/"
    },
    "id": "lpREdIrlikpT",
    "outputId": "ad0849cb-08fa-44cc-88f2-aa5cd911de47"
   },
   "outputs": [
    {
     "name": "stdout",
     "output_type": "stream",
     "text": [
      "Processing column: text\n",
      "Processing column: title\n",
      "Processing column: author\n",
      "Wall time: 36.8 s\n"
     ]
    }
   ],
   "source": [
    "%%time\n",
    "for col in text_cols:\n",
    "    print(\"Processing column: {}\".format(col))\n",
    "    train_df[col] = train_df[col].apply(\n",
    "        lambda x: [each_word for each_word in x if each_word not in stopwords])\n",
    "    test_df[col] = test_df[col].apply(\n",
    "        lambda x: [each_word for each_word in x if each_word not in stopwords])"
   ]
  },
  {
   "cell_type": "code",
   "execution_count": 25,
   "metadata": {
    "colab": {
     "base_uri": "https://localhost:8080/",
     "height": 202
    },
    "id": "7Lb5tF7jiktZ",
    "outputId": "fddd97be-cc7c-431c-b4e2-a9579203f7d4"
   },
   "outputs": [
    {
     "data": {
      "text/html": [
       "<div>\n",
       "<style scoped>\n",
       "    .dataframe tbody tr th:only-of-type {\n",
       "        vertical-align: middle;\n",
       "    }\n",
       "\n",
       "    .dataframe tbody tr th {\n",
       "        vertical-align: top;\n",
       "    }\n",
       "\n",
       "    .dataframe thead th {\n",
       "        text-align: right;\n",
       "    }\n",
       "</style>\n",
       "<table border=\"1\" class=\"dataframe\">\n",
       "  <thead>\n",
       "    <tr style=\"text-align: right;\">\n",
       "      <th></th>\n",
       "      <th>id</th>\n",
       "      <th>title</th>\n",
       "      <th>author</th>\n",
       "      <th>text</th>\n",
       "      <th>label</th>\n",
       "      <th>raw_text_length</th>\n",
       "    </tr>\n",
       "  </thead>\n",
       "  <tbody>\n",
       "    <tr>\n",
       "      <th>0</th>\n",
       "      <td>0</td>\n",
       "      <td>[house, dem, aide, even, see, comeys, letter, ...</td>\n",
       "      <td>[darrell, lucus]</td>\n",
       "      <td>[house, dem, aide, even, see, comeys, letter, ...</td>\n",
       "      <td>1</td>\n",
       "      <td>4930</td>\n",
       "    </tr>\n",
       "    <tr>\n",
       "      <th>1</th>\n",
       "      <td>1</td>\n",
       "      <td>[flynn, hillary, clinton, big, woman, campus, ...</td>\n",
       "      <td>[daniel, j, flynn]</td>\n",
       "      <td>[ever, get, feeling, life, circles, roundabout...</td>\n",
       "      <td>0</td>\n",
       "      <td>4160</td>\n",
       "    </tr>\n",
       "    <tr>\n",
       "      <th>2</th>\n",
       "      <td>2</td>\n",
       "      <td>[truth, might, get, fired]</td>\n",
       "      <td>[consortiumnewscom]</td>\n",
       "      <td>[truth, might, get, fired, october, 29, 2016, ...</td>\n",
       "      <td>1</td>\n",
       "      <td>7692</td>\n",
       "    </tr>\n",
       "    <tr>\n",
       "      <th>3</th>\n",
       "      <td>3</td>\n",
       "      <td>[15, civilians, killed, single, us, airstrike,...</td>\n",
       "      <td>[jessica, purkiss]</td>\n",
       "      <td>[videos, 15, civilians, killed, single, us, ai...</td>\n",
       "      <td>1</td>\n",
       "      <td>3237</td>\n",
       "    </tr>\n",
       "    <tr>\n",
       "      <th>4</th>\n",
       "      <td>4</td>\n",
       "      <td>[iranian, woman, jailed, fictional, unpublishe...</td>\n",
       "      <td>[howard, portnoy]</td>\n",
       "      <td>[print, iranian, woman, sentenced, six, years,...</td>\n",
       "      <td>1</td>\n",
       "      <td>938</td>\n",
       "    </tr>\n",
       "  </tbody>\n",
       "</table>\n",
       "</div>"
      ],
      "text/plain": [
       "   id                                              title               author  \\\n",
       "0   0  [house, dem, aide, even, see, comeys, letter, ...     [darrell, lucus]   \n",
       "1   1  [flynn, hillary, clinton, big, woman, campus, ...   [daniel, j, flynn]   \n",
       "2   2                         [truth, might, get, fired]  [consortiumnewscom]   \n",
       "3   3  [15, civilians, killed, single, us, airstrike,...   [jessica, purkiss]   \n",
       "4   4  [iranian, woman, jailed, fictional, unpublishe...    [howard, portnoy]   \n",
       "\n",
       "                                                text  label  raw_text_length  \n",
       "0  [house, dem, aide, even, see, comeys, letter, ...      1             4930  \n",
       "1  [ever, get, feeling, life, circles, roundabout...      0             4160  \n",
       "2  [truth, might, get, fired, october, 29, 2016, ...      1             7692  \n",
       "3  [videos, 15, civilians, killed, single, us, ai...      1             3237  \n",
       "4  [print, iranian, woman, sentenced, six, years,...      1              938  "
      ]
     },
     "execution_count": 25,
     "metadata": {},
     "output_type": "execute_result"
    }
   ],
   "source": [
    "train_df.head() "
   ]
  },
  {
   "cell_type": "markdown",
   "metadata": {
    "id": "nh3BLecLhsmc"
   },
   "source": [
    "## Model Training"
   ]
  },
  {
   "cell_type": "code",
   "execution_count": 13,
   "metadata": {
    "id": "fsCGD9XJd9Sa"
   },
   "outputs": [],
   "source": [
    "train_df['text_joined'] = train_df['text'].apply(lambda x: \" \".join(x))\n",
    "test_df['text_joined'] = test_df['text'].apply(lambda x: \" \".join(x))\n",
    "\n",
    "target = train_df['label'].values"
   ]
  },
  {
   "cell_type": "code",
   "execution_count": null,
   "metadata": {
    "id": "N14mC1ECA5hM"
   },
   "outputs": [],
   "source": [
    "count_vectorizer = CountVectorizer(ngram_range=(1, 2))\n",
    "tf_idf_transformer = TfidfTransformer(smooth_idf=False)\n",
    "\n",
    "# fit train data to count vectorizer\n",
    "count_vectorizer.fit(train_df['text_joined'].values)\n",
    "count_vect_train = count_vectorizer.transform(train_df['text_joined'].values)\n",
    "\n",
    "# fit ngrams count to tfidf transformers\n",
    "tf_idf_transformer.fit(count_vect_train)\n",
    "tf_idf_train = tf_idf_transformer.transform(count_vect_train)"
   ]
  },
  {
   "cell_type": "code",
   "execution_count": null,
   "metadata": {
    "id": "CZSHKCyhE5Nd"
   },
   "outputs": [],
   "source": [
    "# Transform the test data as well\n",
    "count_vect_test = count_vectorizer.transform(test_df['text_joined'].values)\n",
    "tf_idf_test = tf_idf_transformer.transform(count_vect_test)"
   ]
  },
  {
   "cell_type": "markdown",
   "metadata": {
    "id": "p-jIz9LwUY1Y"
   },
   "source": [
    "# Train Test Split\n"
   ]
  },
  {
   "cell_type": "code",
   "execution_count": null,
   "metadata": {
    "id": "1sJ8fiELA5iY"
   },
   "outputs": [],
   "source": [
    "X_train, X_test, y_train, y_test = train_test_split(tf_idf_train, target, random_state=0)"
   ]
  },
  {
   "cell_type": "code",
   "execution_count": null,
   "metadata": {
    "id": "KynVMSoYO1dv"
   },
   "outputs": [],
   "source": [
    "df_perf_metrics = pd.DataFrame(columns=['Model', 'Accuracy_Training_Set', 'Accuracy_Test_Set', 'Precision', 'Recall', 'f1_score'])"
   ]
  },
  {
   "cell_type": "markdown",
   "metadata": {
    "id": "ZQczEo5VUeGZ"
   },
   "source": [
    "# Machine Learning Classifier Training and Validating"
   ]
  },
  {
   "cell_type": "code",
   "execution_count": null,
   "metadata": {
    "id": "Z9VmkfWcTghU"
   },
   "outputs": [],
   "source": [
    "df_perf_metrics = pd.DataFrame(columns=[\n",
    "    'Model', 'Accuracy_Training_Set', 'Accuracy_Test_Set', 'Precision',\n",
    "    'Recall', 'f1_score', 'Training Time (secs'\n",
    "])\n",
    "models_trained_list = []\n",
    "\n",
    "\n",
    "def get_perf_metrics(model, i):\n",
    "    # model name\n",
    "    model_name = type(model).__name__\n",
    "    # time keeping\n",
    "    start_time = time.time()\n",
    "    print(\"Training {} model...\".format(model_name))\n",
    "    # Fitting of model\n",
    "    model.fit(X_train, y_train)\n",
    "    print(\"Completed {} model training.\".format(model_name))\n",
    "    elapsed_time = time.time() - start_time\n",
    "    # Time Elapsed\n",
    "    print(\"Time elapsed: {:.2f} s.\".format(elapsed_time))\n",
    "    # Predictions\n",
    "    y_pred = model.predict(X_test)\n",
    "    # Add to ith row of dataframe - metrics\n",
    "    df_perf_metrics.loc[i] = [\n",
    "        model_name,\n",
    "        model.score(X_train, y_train),\n",
    "        model.score(X_test, y_test),\n",
    "        precision_score(y_test, y_pred),\n",
    "        recall_score(y_test, y_pred),\n",
    "        f1_score(y_test, y_pred), \"{:.2f}\".format(elapsed_time)\n",
    "    ]\n",
    "    # keep a track of trained models\n",
    "    models_trained_list.append(model)\n",
    "    print(\"Completed {} model's performance assessment.\".format(model_name))"
   ]
  },
  {
   "cell_type": "code",
   "execution_count": null,
   "metadata": {
    "id": "X-Znnm07A5kX"
   },
   "outputs": [],
   "source": [
    "models_list = [LogisticRegression(),\n",
    "               MultinomialNB(),\n",
    "               RandomForestClassifier(),\n",
    "               DecisionTreeClassifier(),\n",
    "               GradientBoostingClassifier(),\n",
    "               AdaBoostClassifier()]"
   ]
  },
  {
   "cell_type": "code",
   "execution_count": null,
   "metadata": {
    "colab": {
     "base_uri": "https://localhost:8080/"
    },
    "id": "owanJAEeHBrC",
    "outputId": "5bfcc9d5-d8ec-4ceb-9237-e368fd6d90fc"
   },
   "outputs": [
    {
     "name": "stdout",
     "output_type": "stream",
     "text": [
      "Training LogisticRegression model...\n",
      "Completed LogisticRegression model training.\n",
      "Time elapsed: 54.51 s.\n",
      "Completed LogisticRegression model's performance assessment.\n",
      "Training MultinomialNB model...\n",
      "Completed MultinomialNB model training.\n",
      "Time elapsed: 0.59 s.\n",
      "Completed MultinomialNB model's performance assessment.\n",
      "Training RandomForestClassifier model...\n",
      "Completed RandomForestClassifier model training.\n",
      "Time elapsed: 897.86 s.\n",
      "Completed RandomForestClassifier model's performance assessment.\n",
      "Training DecisionTreeClassifier model...\n",
      "Completed DecisionTreeClassifier model training.\n",
      "Time elapsed: 404.55 s.\n",
      "Completed DecisionTreeClassifier model's performance assessment.\n",
      "Training GradientBoostingClassifier model...\n",
      "Completed GradientBoostingClassifier model training.\n",
      "Time elapsed: 6715.15 s.\n",
      "Completed GradientBoostingClassifier model's performance assessment.\n",
      "Training AdaBoostClassifier model...\n",
      "Completed AdaBoostClassifier model training.\n",
      "Time elapsed: 2965.27 s.\n",
      "Completed AdaBoostClassifier model's performance assessment.\n",
      "CPU times: user 3h 5min 17s, sys: 30.4 s, total: 3h 5min 48s\n",
      "Wall time: 3h 5min 38s\n"
     ]
    }
   ],
   "source": [
    "%%time\n",
    "for n, model in enumerate(models_list):\n",
    "    get_perf_metrics(model, n)"
   ]
  },
  {
   "cell_type": "code",
   "execution_count": null,
   "metadata": {
    "colab": {
     "base_uri": "https://localhost:8080/",
     "height": 233
    },
    "id": "vNuvvsKAbtAT",
    "outputId": "400b749b-b390-4359-d2e1-7c43b7497323"
   },
   "outputs": [
    {
     "data": {
      "text/html": [
       "<div>\n",
       "<style scoped>\n",
       "    .dataframe tbody tr th:only-of-type {\n",
       "        vertical-align: middle;\n",
       "    }\n",
       "\n",
       "    .dataframe tbody tr th {\n",
       "        vertical-align: top;\n",
       "    }\n",
       "\n",
       "    .dataframe thead th {\n",
       "        text-align: right;\n",
       "    }\n",
       "</style>\n",
       "<table border=\"1\" class=\"dataframe\">\n",
       "  <thead>\n",
       "    <tr style=\"text-align: right;\">\n",
       "      <th></th>\n",
       "      <th>Model</th>\n",
       "      <th>Accuracy_Training_Set</th>\n",
       "      <th>Accuracy_Test_Set</th>\n",
       "      <th>Precision</th>\n",
       "      <th>Recall</th>\n",
       "      <th>f1_score</th>\n",
       "      <th>Training Time (secs</th>\n",
       "    </tr>\n",
       "  </thead>\n",
       "  <tbody>\n",
       "    <tr>\n",
       "      <th>0</th>\n",
       "      <td>LogisticRegression</td>\n",
       "      <td>0.982660</td>\n",
       "      <td>0.946432</td>\n",
       "      <td>0.927520</td>\n",
       "      <td>0.966562</td>\n",
       "      <td>0.946638</td>\n",
       "      <td>54.51</td>\n",
       "    </tr>\n",
       "    <tr>\n",
       "      <th>1</th>\n",
       "      <td>MultinomialNB</td>\n",
       "      <td>0.949333</td>\n",
       "      <td>0.844131</td>\n",
       "      <td>0.997136</td>\n",
       "      <td>0.684894</td>\n",
       "      <td>0.812034</td>\n",
       "      <td>0.59</td>\n",
       "    </tr>\n",
       "    <tr>\n",
       "      <th>2</th>\n",
       "      <td>RandomForestClassifier</td>\n",
       "      <td>0.999936</td>\n",
       "      <td>0.905047</td>\n",
       "      <td>0.926049</td>\n",
       "      <td>0.876869</td>\n",
       "      <td>0.900788</td>\n",
       "      <td>897.86</td>\n",
       "    </tr>\n",
       "    <tr>\n",
       "      <th>3</th>\n",
       "      <td>DecisionTreeClassifier</td>\n",
       "      <td>0.999936</td>\n",
       "      <td>0.903114</td>\n",
       "      <td>0.899101</td>\n",
       "      <td>0.904406</td>\n",
       "      <td>0.901745</td>\n",
       "      <td>404.55</td>\n",
       "    </tr>\n",
       "    <tr>\n",
       "      <th>4</th>\n",
       "      <td>GradientBoostingClassifier</td>\n",
       "      <td>0.945723</td>\n",
       "      <td>0.938697</td>\n",
       "      <td>0.924780</td>\n",
       "      <td>0.952793</td>\n",
       "      <td>0.938578</td>\n",
       "      <td>6715.15</td>\n",
       "    </tr>\n",
       "    <tr>\n",
       "      <th>5</th>\n",
       "      <td>AdaBoostClassifier</td>\n",
       "      <td>0.939019</td>\n",
       "      <td>0.941597</td>\n",
       "      <td>0.934109</td>\n",
       "      <td>0.948072</td>\n",
       "      <td>0.941039</td>\n",
       "      <td>2965.27</td>\n",
       "    </tr>\n",
       "  </tbody>\n",
       "</table>\n",
       "</div>"
      ],
      "text/plain": [
       "                        Model  ...  Training Time (secs\n",
       "0          LogisticRegression  ...                54.51\n",
       "1               MultinomialNB  ...                 0.59\n",
       "2      RandomForestClassifier  ...               897.86\n",
       "3      DecisionTreeClassifier  ...               404.55\n",
       "4  GradientBoostingClassifier  ...              6715.15\n",
       "5          AdaBoostClassifier  ...              2965.27\n",
       "\n",
       "[6 rows x 7 columns]"
      ]
     },
     "execution_count": 24,
     "metadata": {
      "tags": []
     },
     "output_type": "execute_result"
    }
   ],
   "source": [
    "df_perf_metrics"
   ]
  },
  {
   "cell_type": "markdown",
   "metadata": {
    "id": "GOHQ_6YdehGJ"
   },
   "source": [
    "## Adding Title and Author Information to the Text\n",
    "\n",
    "To check if there is any improvement"
   ]
  },
  {
   "cell_type": "code",
   "execution_count": 26,
   "metadata": {
    "id": "x3smbWP0btIf"
   },
   "outputs": [],
   "source": [
    "train_df['all_info'] = train_df['text'] + train_df['title'] + train_df['author']\n",
    "train_df['all_info'] = train_df['all_info'].apply(lambda x: \" \".join(x))\n",
    "\n",
    "test_df['all_info'] = test_df['text'] + test_df['title'] + test_df['author']\n",
    "test_df['all_info'] = test_df['all_info'].apply(lambda x: \" \".join(x))"
   ]
  },
  {
   "cell_type": "code",
   "execution_count": 27,
   "metadata": {
    "id": "DrnVQr67HBwN"
   },
   "outputs": [],
   "source": [
    "tf_idf_transformer = TfidfTransformer(smooth_idf=False)\n",
    "count_vectorizer = CountVectorizer(ngram_range=(1, 2))\n",
    "count_vect_train = count_vectorizer.fit_transform(train_df['all_info'].values)\n",
    "tf_idf_train = tf_idf_transformer.fit_transform(count_vect_train)\n",
    "\n",
    "X_train, X_test, y_train, y_test = train_test_split(tf_idf_train,\n",
    "                                                    target,\n",
    "                                                    random_state=0)"
   ]
  },
  {
   "cell_type": "code",
   "execution_count": 28,
   "metadata": {
    "id": "zC6ngG8-p1Dr"
   },
   "outputs": [],
   "source": [
    "# Transform the test data\n",
    "count_vect_test = count_vectorizer.transform(test_df['all_info'].values)\n",
    "tf_idf_test = tf_idf_transformer.transform(count_vect_test)"
   ]
  },
  {
   "cell_type": "code",
   "execution_count": null,
   "metadata": {
    "colab": {
     "base_uri": "https://localhost:8080/"
    },
    "id": "nN0xDutyHBy2",
    "outputId": "1ac14238-3d60-4930-c980-38c674a5746f"
   },
   "outputs": [
    {
     "name": "stdout",
     "output_type": "stream",
     "text": [
      "Training LogisticRegression model...\n",
      "Completed LogisticRegression model training.\n",
      "Time elapsed: 60.48 s.\n",
      "Completed LogisticRegression model's performance assessment.\n",
      "Training MultinomialNB model...\n",
      "Completed MultinomialNB model training.\n",
      "Time elapsed: 0.66 s.\n",
      "Completed MultinomialNB model's performance assessment.\n",
      "Training RandomForestClassifier model...\n",
      "Completed RandomForestClassifier model training.\n",
      "Time elapsed: 640.87 s.\n",
      "Completed RandomForestClassifier model's performance assessment.\n",
      "Training DecisionTreeClassifier model...\n",
      "Completed DecisionTreeClassifier model training.\n",
      "Time elapsed: 197.91 s.\n",
      "Completed DecisionTreeClassifier model's performance assessment.\n",
      "Training GradientBoostingClassifier model...\n",
      "Completed GradientBoostingClassifier model training.\n",
      "Time elapsed: 6840.46 s.\n",
      "Completed GradientBoostingClassifier model's performance assessment.\n",
      "Training AdaBoostClassifier model...\n",
      "Completed AdaBoostClassifier model training.\n",
      "Time elapsed: 3028.83 s.\n",
      "Completed AdaBoostClassifier model's performance assessment.\n",
      "CPU times: user 3h 1min, sys: 30 s, total: 3h 1min 30s\n",
      "Wall time: 3h 1min 15s\n"
     ]
    }
   ],
   "source": [
    "%%time\n",
    "for n, model in enumerate(models_list):\n",
    "    get_perf_metrics(model, n)"
   ]
  },
  {
   "cell_type": "code",
   "execution_count": null,
   "metadata": {
    "colab": {
     "base_uri": "https://localhost:8080/",
     "height": 233
    },
    "id": "TGE3daICgE1i",
    "outputId": "6fd0e584-5664-45d9-a997-26727d0c0b26"
   },
   "outputs": [
    {
     "data": {
      "text/html": [
       "<div>\n",
       "<style scoped>\n",
       "    .dataframe tbody tr th:only-of-type {\n",
       "        vertical-align: middle;\n",
       "    }\n",
       "\n",
       "    .dataframe tbody tr th {\n",
       "        vertical-align: top;\n",
       "    }\n",
       "\n",
       "    .dataframe thead th {\n",
       "        text-align: right;\n",
       "    }\n",
       "</style>\n",
       "<table border=\"1\" class=\"dataframe\">\n",
       "  <thead>\n",
       "    <tr style=\"text-align: right;\">\n",
       "      <th></th>\n",
       "      <th>Model</th>\n",
       "      <th>Accuracy_Training_Set</th>\n",
       "      <th>Accuracy_Test_Set</th>\n",
       "      <th>Precision</th>\n",
       "      <th>Recall</th>\n",
       "      <th>f1_score</th>\n",
       "      <th>Training Time (secs</th>\n",
       "    </tr>\n",
       "  </thead>\n",
       "  <tbody>\n",
       "    <tr>\n",
       "      <th>0</th>\n",
       "      <td>LogisticRegression</td>\n",
       "      <td>0.988075</td>\n",
       "      <td>0.961710</td>\n",
       "      <td>0.949731</td>\n",
       "      <td>0.973643</td>\n",
       "      <td>0.961538</td>\n",
       "      <td>60.48</td>\n",
       "    </tr>\n",
       "    <tr>\n",
       "      <th>1</th>\n",
       "      <td>MultinomialNB</td>\n",
       "      <td>0.950106</td>\n",
       "      <td>0.851479</td>\n",
       "      <td>0.998315</td>\n",
       "      <td>0.699056</td>\n",
       "      <td>0.822304</td>\n",
       "      <td>0.66</td>\n",
       "    </tr>\n",
       "    <tr>\n",
       "      <th>2</th>\n",
       "      <td>RandomForestClassifier</td>\n",
       "      <td>1.000000</td>\n",
       "      <td>0.927867</td>\n",
       "      <td>0.945014</td>\n",
       "      <td>0.905980</td>\n",
       "      <td>0.925085</td>\n",
       "      <td>640.87</td>\n",
       "    </tr>\n",
       "    <tr>\n",
       "      <th>3</th>\n",
       "      <td>DecisionTreeClassifier</td>\n",
       "      <td>1.000000</td>\n",
       "      <td>0.980275</td>\n",
       "      <td>0.980315</td>\n",
       "      <td>0.979544</td>\n",
       "      <td>0.979929</td>\n",
       "      <td>197.91</td>\n",
       "    </tr>\n",
       "    <tr>\n",
       "      <th>4</th>\n",
       "      <td>GradientBoostingClassifier</td>\n",
       "      <td>0.980275</td>\n",
       "      <td>0.976794</td>\n",
       "      <td>0.972309</td>\n",
       "      <td>0.980724</td>\n",
       "      <td>0.976498</td>\n",
       "      <td>6840.46</td>\n",
       "    </tr>\n",
       "    <tr>\n",
       "      <th>5</th>\n",
       "      <td>AdaBoostClassifier</td>\n",
       "      <td>0.975891</td>\n",
       "      <td>0.973699</td>\n",
       "      <td>0.971765</td>\n",
       "      <td>0.974823</td>\n",
       "      <td>0.973291</td>\n",
       "      <td>3028.83</td>\n",
       "    </tr>\n",
       "  </tbody>\n",
       "</table>\n",
       "</div>"
      ],
      "text/plain": [
       "                        Model  ...  Training Time (secs\n",
       "0          LogisticRegression  ...                60.48\n",
       "1               MultinomialNB  ...                 0.66\n",
       "2      RandomForestClassifier  ...               640.87\n",
       "3      DecisionTreeClassifier  ...               197.91\n",
       "4  GradientBoostingClassifier  ...              6840.46\n",
       "5          AdaBoostClassifier  ...              3028.83\n",
       "\n",
       "[6 rows x 7 columns]"
      ]
     },
     "execution_count": 28,
     "metadata": {
      "tags": []
     },
     "output_type": "execute_result"
    }
   ],
   "source": [
    "df_perf_metrics"
   ]
  },
  {
   "cell_type": "markdown",
   "metadata": {
    "id": "CjOEj_kVb0bp"
   },
   "source": [
    "## Tuning the Logistic Regression Model"
   ]
  },
  {
   "cell_type": "code",
   "execution_count": 29,
   "metadata": {
    "id": "_bqoPB0ok344"
   },
   "outputs": [],
   "source": [
    "model = LogisticRegression()"
   ]
  },
  {
   "cell_type": "code",
   "execution_count": 30,
   "metadata": {
    "id": "BCG7ZCNlbpiH"
   },
   "outputs": [],
   "source": [
    "max_iter = [100, 200, 500, 1000]\n",
    "C = [0.1, 0.5, 1, 10, 50, 100]\n",
    "\n",
    "param_grid = dict(max_iter=max_iter, C=C)"
   ]
  },
  {
   "cell_type": "code",
   "execution_count": 31,
   "metadata": {
    "id": "AHKMikyWbu3F"
   },
   "outputs": [],
   "source": [
    "grid = GridSearchCV(estimator=model,\n",
    "                    param_grid=param_grid,\n",
    "                    cv=5,\n",
    "                    scoring=['f1'],\n",
    "                    refit='f1',\n",
    "                    verbose=2)"
   ]
  },
  {
   "cell_type": "code",
   "execution_count": 32,
   "metadata": {
    "colab": {
     "base_uri": "https://localhost:8080/"
    },
    "id": "AzVkjh8Uk0tP",
    "outputId": "adf5816f-5d8c-47f6-f5bd-aafa2e8f3b04",
    "scrolled": false
   },
   "outputs": [
    {
     "name": "stdout",
     "output_type": "stream",
     "text": [
      "Fitting 5 folds for each of 24 candidates, totalling 120 fits\n",
      "[CV] END ................................C=0.1, max_iter=100; total time=  40.4s\n",
      "[CV] END ................................C=0.1, max_iter=100; total time=  34.7s\n",
      "[CV] END ................................C=0.1, max_iter=100; total time=  34.2s\n",
      "[CV] END ................................C=0.1, max_iter=100; total time=  31.1s\n",
      "[CV] END ................................C=0.1, max_iter=100; total time=  34.1s\n",
      "[CV] END ................................C=0.1, max_iter=200; total time=  35.5s\n",
      "[CV] END ................................C=0.1, max_iter=200; total time=  33.8s\n",
      "[CV] END ................................C=0.1, max_iter=200; total time=  34.0s\n",
      "[CV] END ................................C=0.1, max_iter=200; total time=  30.9s\n",
      "[CV] END ................................C=0.1, max_iter=200; total time=  32.0s\n",
      "[CV] END ................................C=0.1, max_iter=500; total time=  37.4s\n",
      "[CV] END ................................C=0.1, max_iter=500; total time=  31.9s\n",
      "[CV] END ................................C=0.1, max_iter=500; total time=  33.1s\n",
      "[CV] END ................................C=0.1, max_iter=500; total time=  32.6s\n",
      "[CV] END ................................C=0.1, max_iter=500; total time=  29.6s\n",
      "[CV] END ...............................C=0.1, max_iter=1000; total time=  31.7s\n",
      "[CV] END ...............................C=0.1, max_iter=1000; total time=  34.6s\n",
      "[CV] END ...............................C=0.1, max_iter=1000; total time=  36.1s\n",
      "[CV] END ...............................C=0.1, max_iter=1000; total time=  31.8s\n",
      "[CV] END ...............................C=0.1, max_iter=1000; total time=  38.5s\n",
      "[CV] END ................................C=0.5, max_iter=100; total time=  44.8s\n",
      "[CV] END ................................C=0.5, max_iter=100; total time=  37.7s\n",
      "[CV] END ................................C=0.5, max_iter=100; total time=  36.5s\n",
      "[CV] END ................................C=0.5, max_iter=100; total time=  41.0s\n",
      "[CV] END ................................C=0.5, max_iter=100; total time=  49.0s\n",
      "[CV] END ................................C=0.5, max_iter=200; total time=  40.2s\n",
      "[CV] END ................................C=0.5, max_iter=200; total time=  33.3s\n",
      "[CV] END ................................C=0.5, max_iter=200; total time=  36.3s\n",
      "[CV] END ................................C=0.5, max_iter=200; total time=  43.6s\n",
      "[CV] END ................................C=0.5, max_iter=200; total time= 1.1min\n",
      "[CV] END ................................C=0.5, max_iter=500; total time= 1.0min\n",
      "[CV] END ................................C=0.5, max_iter=500; total time=  37.2s\n",
      "[CV] END ................................C=0.5, max_iter=500; total time=  47.5s\n",
      "[CV] END ................................C=0.5, max_iter=500; total time= 1.1min\n",
      "[CV] END ................................C=0.5, max_iter=500; total time= 1.1min\n",
      "[CV] END ...............................C=0.5, max_iter=1000; total time=  45.6s\n",
      "[CV] END ...............................C=0.5, max_iter=1000; total time=  35.6s\n",
      "[CV] END ...............................C=0.5, max_iter=1000; total time=  40.6s\n",
      "[CV] END ...............................C=0.5, max_iter=1000; total time=  46.0s\n",
      "[CV] END ...............................C=0.5, max_iter=1000; total time=  50.9s\n",
      "[CV] END ..................................C=1, max_iter=100; total time=  54.1s\n",
      "[CV] END ..................................C=1, max_iter=100; total time=  44.6s\n",
      "[CV] END ..................................C=1, max_iter=100; total time=  49.6s\n",
      "[CV] END ..................................C=1, max_iter=100; total time=  44.6s\n",
      "[CV] END ..................................C=1, max_iter=100; total time= 1.3min\n",
      "[CV] END ..................................C=1, max_iter=200; total time= 1.3min\n",
      "[CV] END ..................................C=1, max_iter=200; total time= 1.1min\n",
      "[CV] END ..................................C=1, max_iter=200; total time=  59.8s\n",
      "[CV] END ..................................C=1, max_iter=200; total time=  43.6s\n",
      "[CV] END ..................................C=1, max_iter=200; total time= 1.0min\n",
      "[CV] END ..................................C=1, max_iter=500; total time=  43.7s\n",
      "[CV] END ..................................C=1, max_iter=500; total time=  34.3s\n",
      "[CV] END ..................................C=1, max_iter=500; total time=  36.3s\n",
      "[CV] END ..................................C=1, max_iter=500; total time=  30.3s\n",
      "[CV] END ..................................C=1, max_iter=500; total time=  43.1s\n",
      "[CV] END .................................C=1, max_iter=1000; total time=  42.3s\n",
      "[CV] END .................................C=1, max_iter=1000; total time=  35.3s\n",
      "[CV] END .................................C=1, max_iter=1000; total time=  37.1s\n",
      "[CV] END .................................C=1, max_iter=1000; total time=  30.2s\n",
      "[CV] END .................................C=1, max_iter=1000; total time=  43.4s\n",
      "[CV] END .................................C=10, max_iter=100; total time=  58.9s\n",
      "[CV] END .................................C=10, max_iter=100; total time=  59.7s\n",
      "[CV] END .................................C=10, max_iter=100; total time= 1.1min\n",
      "[CV] END .................................C=10, max_iter=100; total time= 1.2min\n",
      "[CV] END .................................C=10, max_iter=100; total time=  43.1s\n",
      "[CV] END .................................C=10, max_iter=200; total time= 1.0min\n",
      "[CV] END .................................C=10, max_iter=200; total time= 1.1min\n",
      "[CV] END .................................C=10, max_iter=200; total time= 1.2min\n",
      "[CV] END .................................C=10, max_iter=200; total time= 1.6min\n",
      "[CV] END .................................C=10, max_iter=200; total time=  59.5s\n",
      "[CV] END .................................C=10, max_iter=500; total time= 1.4min\n",
      "[CV] END .................................C=10, max_iter=500; total time= 1.5min\n",
      "[CV] END .................................C=10, max_iter=500; total time= 1.5min\n",
      "[CV] END .................................C=10, max_iter=500; total time= 1.7min\n",
      "[CV] END .................................C=10, max_iter=500; total time= 1.0min\n",
      "[CV] END ................................C=10, max_iter=1000; total time= 1.4min\n",
      "[CV] END ................................C=10, max_iter=1000; total time= 1.4min\n",
      "[CV] END ................................C=10, max_iter=1000; total time= 1.6min\n",
      "[CV] END ................................C=10, max_iter=1000; total time= 1.8min\n",
      "[CV] END ................................C=10, max_iter=1000; total time=  48.8s\n",
      "[CV] END .................................C=50, max_iter=100; total time= 1.5min\n",
      "[CV] END .................................C=50, max_iter=100; total time= 1.6min\n",
      "[CV] END .................................C=50, max_iter=100; total time= 1.5min\n",
      "[CV] END .................................C=50, max_iter=100; total time= 1.5min\n",
      "[CV] END .................................C=50, max_iter=100; total time= 1.2min\n",
      "[CV] END .................................C=50, max_iter=200; total time= 1.5min\n",
      "[CV] END .................................C=50, max_iter=200; total time= 1.6min\n",
      "[CV] END .................................C=50, max_iter=200; total time= 1.5min\n",
      "[CV] END .................................C=50, max_iter=200; total time= 2.1min\n",
      "[CV] END .................................C=50, max_iter=200; total time= 1.2min\n",
      "[CV] END .................................C=50, max_iter=500; total time= 1.5min\n",
      "[CV] END .................................C=50, max_iter=500; total time= 1.6min\n",
      "[CV] END .................................C=50, max_iter=500; total time= 1.5min\n",
      "[CV] END .................................C=50, max_iter=500; total time= 2.0min\n",
      "[CV] END .................................C=50, max_iter=500; total time= 1.2min\n",
      "[CV] END ................................C=50, max_iter=1000; total time= 1.4min\n",
      "[CV] END ................................C=50, max_iter=1000; total time= 1.5min\n",
      "[CV] END ................................C=50, max_iter=1000; total time= 1.4min\n",
      "[CV] END ................................C=50, max_iter=1000; total time= 1.9min\n",
      "[CV] END ................................C=50, max_iter=1000; total time= 1.1min\n",
      "[CV] END ................................C=100, max_iter=100; total time= 1.4min\n"
     ]
    },
    {
     "name": "stdout",
     "output_type": "stream",
     "text": [
      "[CV] END ................................C=100, max_iter=100; total time= 1.5min\n",
      "[CV] END ................................C=100, max_iter=100; total time= 1.4min\n",
      "[CV] END ................................C=100, max_iter=100; total time= 1.4min\n",
      "[CV] END ................................C=100, max_iter=100; total time= 1.4min\n",
      "[CV] END ................................C=100, max_iter=200; total time= 2.0min\n",
      "[CV] END ................................C=100, max_iter=200; total time= 2.1min\n",
      "[CV] END ................................C=100, max_iter=200; total time= 2.0min\n",
      "[CV] END ................................C=100, max_iter=200; total time= 1.5min\n",
      "[CV] END ................................C=100, max_iter=200; total time= 2.3min\n",
      "[CV] END ................................C=100, max_iter=500; total time= 2.0min\n",
      "[CV] END ................................C=100, max_iter=500; total time= 2.1min\n",
      "[CV] END ................................C=100, max_iter=500; total time= 1.9min\n",
      "[CV] END ................................C=100, max_iter=500; total time= 1.5min\n",
      "[CV] END ................................C=100, max_iter=500; total time= 2.3min\n",
      "[CV] END ...............................C=100, max_iter=1000; total time= 2.0min\n",
      "[CV] END ...............................C=100, max_iter=1000; total time= 2.1min\n",
      "[CV] END ...............................C=100, max_iter=1000; total time= 1.9min\n",
      "[CV] END ...............................C=100, max_iter=1000; total time= 1.4min\n",
      "[CV] END ...............................C=100, max_iter=1000; total time= 2.3min\n",
      "Wall time: 2h 16min 34s\n"
     ]
    }
   ],
   "source": [
    "%%time\n",
    "grid_result = grid.fit(X_train, y_train)"
   ]
  },
  {
   "cell_type": "code",
   "execution_count": 33,
   "metadata": {
    "id": "QiSTs272k23W"
   },
   "outputs": [
    {
     "data": {
      "text/plain": [
       "LogisticRegression(C=100)"
      ]
     },
     "execution_count": 33,
     "metadata": {},
     "output_type": "execute_result"
    }
   ],
   "source": [
    "grid_result.best_estimator_"
   ]
  },
  {
   "cell_type": "code",
   "execution_count": 38,
   "metadata": {},
   "outputs": [
    {
     "data": {
      "text/plain": [
       "{'C': 100, 'max_iter': 100}"
      ]
     },
     "execution_count": 38,
     "metadata": {},
     "output_type": "execute_result"
    }
   ],
   "source": [
    "grid_result.best_params_"
   ]
  },
  {
   "cell_type": "code",
   "execution_count": 35,
   "metadata": {
    "id": "JIjBEtoH0XGN"
   },
   "outputs": [
    {
     "name": "stdout",
     "output_type": "stream",
     "text": [
      "Accuracy:  0.9762134983562174\n",
      "Precision:  0.9678916827852998\n",
      "Recall:  0.98426435877262\n",
      "f1-score:  0.976009362200117\n"
     ]
    }
   ],
   "source": [
    "model = grid_result.best_estimator_\n",
    "y_pred = model.predict(X_test)\n",
    "print('Accuracy: ', accuracy_score(y_test, y_pred))\n",
    "print('Precision: ', precision_score(y_test, y_pred))\n",
    "print('Recall: ', recall_score(y_test, y_pred))\n",
    "print('f1-score: ', f1_score(y_test, y_pred))"
   ]
  },
  {
   "cell_type": "markdown",
   "metadata": {},
   "source": [
    "## Retuning the Logistic Regression Classifier\n",
    "\n",
    "### Attempt 1\n",
    "In the last grid, the lowest of the max_iter list (100) and highest of the C list (100) were the best values. In this attempt, I will see if there are better fits in the values beyond these, lower than 100 for max_iter or just a bit higher, and higher than 100 for C or just a bit lower."
   ]
  },
  {
   "cell_type": "code",
   "execution_count": 39,
   "metadata": {},
   "outputs": [
    {
     "name": "stdout",
     "output_type": "stream",
     "text": [
      "Fitting 5 folds for each of 9 candidates, totalling 45 fits\n",
      "[CV] END ..................................C=75, max_iter=50; total time= 2.3min\n",
      "[CV] END ..................................C=75, max_iter=50; total time= 2.0min\n",
      "[CV] END ..................................C=75, max_iter=50; total time= 2.1min\n",
      "[CV] END ..................................C=75, max_iter=50; total time= 2.0min\n",
      "[CV] END ..................................C=75, max_iter=50; total time= 2.0min\n",
      "[CV] END ..................................C=75, max_iter=75; total time= 2.7min\n",
      "[CV] END ..................................C=75, max_iter=75; total time= 2.9min\n",
      "[CV] END ..................................C=75, max_iter=75; total time= 2.9min\n",
      "[CV] END ..................................C=75, max_iter=75; total time= 2.9min\n",
      "[CV] END ..................................C=75, max_iter=75; total time= 2.6min\n",
      "[CV] END .................................C=75, max_iter=100; total time= 3.6min\n",
      "[CV] END .................................C=75, max_iter=100; total time= 3.7min\n",
      "[CV] END .................................C=75, max_iter=100; total time= 3.6min\n",
      "[CV] END .................................C=75, max_iter=100; total time= 3.6min\n",
      "[CV] END .................................C=75, max_iter=100; total time= 2.7min\n",
      "[CV] END .................................C=100, max_iter=50; total time= 2.0min\n",
      "[CV] END .................................C=100, max_iter=50; total time= 2.0min\n",
      "[CV] END .................................C=100, max_iter=50; total time= 2.0min\n",
      "[CV] END .................................C=100, max_iter=50; total time= 2.0min\n",
      "[CV] END .................................C=100, max_iter=50; total time= 2.0min\n",
      "[CV] END .................................C=100, max_iter=75; total time= 2.9min\n",
      "[CV] END .................................C=100, max_iter=75; total time= 2.8min\n",
      "[CV] END .................................C=100, max_iter=75; total time= 2.8min\n",
      "[CV] END .................................C=100, max_iter=75; total time= 2.8min\n",
      "[CV] END .................................C=100, max_iter=75; total time= 2.8min\n",
      "[CV] END ................................C=100, max_iter=100; total time= 3.7min\n",
      "[CV] END ................................C=100, max_iter=100; total time= 3.6min\n",
      "[CV] END ................................C=100, max_iter=100; total time= 3.7min\n",
      "[CV] END ................................C=100, max_iter=100; total time= 3.6min\n",
      "[CV] END ................................C=100, max_iter=100; total time= 3.8min\n",
      "[CV] END .................................C=125, max_iter=50; total time= 2.0min\n",
      "[CV] END .................................C=125, max_iter=50; total time= 2.0min\n",
      "[CV] END .................................C=125, max_iter=50; total time= 2.0min\n",
      "[CV] END .................................C=125, max_iter=50; total time= 2.0min\n",
      "[CV] END .................................C=125, max_iter=50; total time= 2.0min\n",
      "[CV] END .................................C=125, max_iter=75; total time= 2.8min\n",
      "[CV] END .................................C=125, max_iter=75; total time= 2.8min\n",
      "[CV] END .................................C=125, max_iter=75; total time= 2.9min\n",
      "[CV] END .................................C=125, max_iter=75; total time= 2.9min\n",
      "[CV] END .................................C=125, max_iter=75; total time= 2.8min\n",
      "[CV] END ................................C=125, max_iter=100; total time= 3.8min\n",
      "[CV] END ................................C=125, max_iter=100; total time= 3.7min\n",
      "[CV] END ................................C=125, max_iter=100; total time= 3.6min\n",
      "[CV] END ................................C=125, max_iter=100; total time= 3.7min\n",
      "[CV] END ................................C=125, max_iter=100; total time= 3.7min\n",
      "Wall time: 2h 11min 18s\n"
     ]
    }
   ],
   "source": [
    "%%time\n",
    "model = LogisticRegression()\n",
    "\n",
    "max_iter = [50, 75, 100]\n",
    "C = [75, 100, 125]\n",
    "\n",
    "param_grid = dict(max_iter=max_iter, C=C)\n",
    "\n",
    "grid = GridSearchCV(estimator=model,\n",
    "                    param_grid=param_grid,\n",
    "                    cv=5,\n",
    "                    scoring=['f1'],\n",
    "                    refit='f1',\n",
    "                    verbose=2)\n",
    "\n",
    "grid_result = grid.fit(X_train, y_train)"
   ]
  },
  {
   "cell_type": "code",
   "execution_count": 40,
   "metadata": {},
   "outputs": [
    {
     "name": "stdout",
     "output_type": "stream",
     "text": [
      "Accuracy:  0.9764068845484433\n",
      "Precision:  0.968266253869969\n",
      "Recall:  0.98426435877262\n",
      "f1-score:  0.9761997658993368\n"
     ]
    }
   ],
   "source": [
    "model = grid_result.best_estimator_\n",
    "y_pred = model.predict(X_test)\n",
    "print('Accuracy: ', accuracy_score(y_test, y_pred))\n",
    "print('Precision: ', precision_score(y_test, y_pred))\n",
    "print('Recall: ', recall_score(y_test, y_pred))\n",
    "print('f1-score: ', f1_score(y_test, y_pred))"
   ]
  },
  {
   "cell_type": "code",
   "execution_count": 41,
   "metadata": {},
   "outputs": [
    {
     "data": {
      "text/plain": [
       "{'C': 125, 'max_iter': 100}"
      ]
     },
     "execution_count": 41,
     "metadata": {},
     "output_type": "execute_result"
    }
   ],
   "source": [
    "grid_result.best_params_"
   ]
  },
  {
   "cell_type": "markdown",
   "metadata": {},
   "source": [
    "### Attempt 2\n",
    "\n",
    "In the previous attempt, we saw max_iter is still at 100 while C = 125 resulted into a marginally higher precision and consequently the f1 score improved just a bit. Let's see if we can improve the results a little more.\n",
    "\n",
    "For this I have kept C constant and I have stated a range of C from 120 to 150 which increases by a step value of 10."
   ]
  },
  {
   "cell_type": "code",
   "execution_count": 42,
   "metadata": {},
   "outputs": [
    {
     "name": "stdout",
     "output_type": "stream",
     "text": [
      "Fitting 5 folds for each of 4 candidates, totalling 20 fits\n",
      "[CV] END ................................C=120, max_iter=100; total time= 3.7min\n",
      "[CV] END ................................C=120, max_iter=100; total time= 3.9min\n",
      "[CV] END ................................C=120, max_iter=100; total time= 3.8min\n",
      "[CV] END ................................C=120, max_iter=100; total time= 3.6min\n",
      "[CV] END ................................C=120, max_iter=100; total time= 3.8min\n",
      "[CV] END ................................C=130, max_iter=100; total time= 3.7min\n",
      "[CV] END ................................C=130, max_iter=100; total time= 3.7min\n",
      "[CV] END ................................C=130, max_iter=100; total time= 3.7min\n",
      "[CV] END ................................C=130, max_iter=100; total time= 3.8min\n",
      "[CV] END ................................C=130, max_iter=100; total time= 3.7min\n",
      "[CV] END ................................C=140, max_iter=100; total time= 3.7min\n",
      "[CV] END ................................C=140, max_iter=100; total time= 3.8min\n",
      "[CV] END ................................C=140, max_iter=100; total time= 3.8min\n",
      "[CV] END ................................C=140, max_iter=100; total time= 3.7min\n",
      "[CV] END ................................C=140, max_iter=100; total time= 3.7min\n",
      "[CV] END ................................C=150, max_iter=100; total time= 3.7min\n",
      "[CV] END ................................C=150, max_iter=100; total time= 3.8min\n",
      "[CV] END ................................C=150, max_iter=100; total time= 3.0min\n",
      "[CV] END ................................C=150, max_iter=100; total time= 1.3min\n",
      "[CV] END ................................C=150, max_iter=100; total time= 1.4min\n",
      "Wall time: 1h 10min 42s\n"
     ]
    }
   ],
   "source": [
    "%%time\n",
    "model = LogisticRegression()\n",
    "\n",
    "max_iter = [100]\n",
    "C = [120, 130, 140, 150]\n",
    "\n",
    "param_grid = dict(max_iter=max_iter, C=C)\n",
    "\n",
    "grid = GridSearchCV(estimator=model,\n",
    "                    param_grid=param_grid,\n",
    "                    cv=5,\n",
    "                    scoring=['f1'],\n",
    "                    refit='f1',\n",
    "                    verbose=2)\n",
    "\n",
    "grid_result = grid.fit(X_train, y_train)"
   ]
  },
  {
   "cell_type": "code",
   "execution_count": 43,
   "metadata": {},
   "outputs": [
    {
     "name": "stdout",
     "output_type": "stream",
     "text": [
      "Accuracy:  0.9762134983562174\n",
      "Precision:  0.9678916827852998\n",
      "Recall:  0.98426435877262\n",
      "f1-score:  0.976009362200117\n"
     ]
    }
   ],
   "source": [
    "model = grid_result.best_estimator_\n",
    "y_pred = model.predict(X_test)\n",
    "print('Accuracy: ', accuracy_score(y_test, y_pred))\n",
    "print('Precision: ', precision_score(y_test, y_pred))\n",
    "print('Recall: ', recall_score(y_test, y_pred))\n",
    "print('f1-score: ', f1_score(y_test, y_pred))"
   ]
  },
  {
   "cell_type": "code",
   "execution_count": 44,
   "metadata": {},
   "outputs": [
    {
     "data": {
      "text/plain": [
       "{'C': 140, 'max_iter': 100}"
      ]
     },
     "execution_count": 44,
     "metadata": {},
     "output_type": "execute_result"
    }
   ],
   "source": [
    "grid_result.best_params_"
   ]
  },
  {
   "cell_type": "markdown",
   "metadata": {},
   "source": [
    "### Attempt 3\n",
    "\n",
    "One final attempt to find the best model, keeping C = 100 and max_iter = 100, 125, 140."
   ]
  },
  {
   "cell_type": "code",
   "execution_count": 46,
   "metadata": {},
   "outputs": [
    {
     "name": "stdout",
     "output_type": "stream",
     "text": [
      "Fitting 5 folds for each of 3 candidates, totalling 15 fits\n",
      "[CV] END ................................C=100, max_iter=100; total time= 1.4min\n",
      "[CV] END ................................C=100, max_iter=100; total time= 1.3min\n",
      "[CV] END ................................C=100, max_iter=100; total time= 1.3min\n",
      "[CV] END ................................C=100, max_iter=100; total time= 1.3min\n",
      "[CV] END ................................C=100, max_iter=100; total time= 1.3min\n",
      "[CV] END ................................C=125, max_iter=100; total time= 1.4min\n",
      "[CV] END ................................C=125, max_iter=100; total time= 1.3min\n",
      "[CV] END ................................C=125, max_iter=100; total time= 1.3min\n",
      "[CV] END ................................C=125, max_iter=100; total time= 1.4min\n",
      "[CV] END ................................C=125, max_iter=100; total time= 1.3min\n",
      "[CV] END ................................C=140, max_iter=100; total time= 1.4min\n",
      "[CV] END ................................C=140, max_iter=100; total time= 3.1min\n",
      "[CV] END ................................C=140, max_iter=100; total time= 3.7min\n",
      "[CV] END ................................C=140, max_iter=100; total time= 3.6min\n",
      "[CV] END ................................C=140, max_iter=100; total time= 3.8min\n",
      "Wall time: 32min 52s\n"
     ]
    }
   ],
   "source": [
    "%%time\n",
    "model = LogisticRegression()\n",
    "\n",
    "max_iter = [100]\n",
    "C = [100, 125, 140]\n",
    "\n",
    "param_grid = dict(max_iter=max_iter, C=C)\n",
    "\n",
    "grid = GridSearchCV(estimator=model,\n",
    "                    param_grid=param_grid,\n",
    "                    cv=5,\n",
    "                    scoring=['f1'],\n",
    "                    refit='f1',\n",
    "                    verbose=2)\n",
    "\n",
    "grid_result = grid.fit(X_train, y_train)"
   ]
  },
  {
   "cell_type": "code",
   "execution_count": 47,
   "metadata": {},
   "outputs": [
    {
     "name": "stdout",
     "output_type": "stream",
     "text": [
      "Accuracy:  0.9762134983562174\n",
      "Precision:  0.9678916827852998\n",
      "Recall:  0.98426435877262\n",
      "f1-score:  0.976009362200117\n"
     ]
    }
   ],
   "source": [
    "model = grid_result.best_estimator_\n",
    "y_pred = model.predict(X_test)\n",
    "print('Accuracy: ', accuracy_score(y_test, y_pred))\n",
    "print('Precision: ', precision_score(y_test, y_pred))\n",
    "print('Recall: ', recall_score(y_test, y_pred))\n",
    "print('f1-score: ', f1_score(y_test, y_pred))"
   ]
  },
  {
   "cell_type": "code",
   "execution_count": 48,
   "metadata": {},
   "outputs": [
    {
     "data": {
      "text/plain": [
       "{'C': 140, 'max_iter': 100}"
      ]
     },
     "execution_count": 48,
     "metadata": {},
     "output_type": "execute_result"
    }
   ],
   "source": [
    "grid_result.best_params_"
   ]
  },
  {
   "cell_type": "code",
   "execution_count": 49,
   "metadata": {},
   "outputs": [
    {
     "data": {
      "text/plain": [
       "['Log_Reg_Best_Model.sav']"
      ]
     },
     "execution_count": 49,
     "metadata": {},
     "output_type": "execute_result"
    }
   ],
   "source": [
    "file_name = 'Log_Reg_Best_Model.sav'\n",
    "joblib.dump(model, file_name)"
   ]
  },
  {
   "cell_type": "markdown",
   "metadata": {
    "id": "1VLaPXrpqaV6"
   },
   "source": [
    "# Create Kaggle Submission"
   ]
  },
  {
   "cell_type": "code",
   "execution_count": 50,
   "metadata": {
    "id": "HgyWKi2PFwUs"
   },
   "outputs": [
    {
     "name": "stdout",
     "output_type": "stream",
     "text": [
      "0    50.217559\n",
      "1    49.782441\n",
      "Name: label, dtype: float64\n",
      "[51.21153846 48.78846154]\n"
     ]
    },
    {
     "data": {
      "image/png": "[encoded data removed]",
      "text/plain": [
       "<Figure size 720x720 with 1 Axes>"
      ]
     },
     "metadata": {},
     "output_type": "display_data"
    },
    {
     "data": {
      "text/html": [
       "<div>\n",
       "<style scoped>\n",
       "    .dataframe tbody tr th:only-of-type {\n",
       "        vertical-align: middle;\n",
       "    }\n",
       "\n",
       "    .dataframe tbody tr th {\n",
       "        vertical-align: top;\n",
       "    }\n",
       "\n",
       "    .dataframe thead th {\n",
       "        text-align: right;\n",
       "    }\n",
       "</style>\n",
       "<table border=\"1\" class=\"dataframe\">\n",
       "  <thead>\n",
       "    <tr style=\"text-align: right;\">\n",
       "      <th></th>\n",
       "      <th>id</th>\n",
       "      <th>label</th>\n",
       "    </tr>\n",
       "  </thead>\n",
       "  <tbody>\n",
       "    <tr>\n",
       "      <th>0</th>\n",
       "      <td>20800</td>\n",
       "      <td>0</td>\n",
       "    </tr>\n",
       "    <tr>\n",
       "      <th>1</th>\n",
       "      <td>20801</td>\n",
       "      <td>1</td>\n",
       "    </tr>\n",
       "    <tr>\n",
       "      <th>2</th>\n",
       "      <td>20802</td>\n",
       "      <td>1</td>\n",
       "    </tr>\n",
       "    <tr>\n",
       "      <th>3</th>\n",
       "      <td>20803</td>\n",
       "      <td>0</td>\n",
       "    </tr>\n",
       "    <tr>\n",
       "      <th>4</th>\n",
       "      <td>20804</td>\n",
       "      <td>1</td>\n",
       "    </tr>\n",
       "  </tbody>\n",
       "</table>\n",
       "</div>"
      ],
      "text/plain": [
       "      id  label\n",
       "0  20800      0\n",
       "1  20801      1\n",
       "2  20802      1\n",
       "3  20803      0\n",
       "4  20804      1"
      ]
     },
     "execution_count": 50,
     "metadata": {},
     "output_type": "execute_result"
    }
   ],
   "source": [
    "# Predicting the test dataframe and create submit.csv\n",
    "# Picking up Logistic Regression since it has the best performance\n",
    "\n",
    "submit_predictions = model.predict(tf_idf_test)\n",
    "print(train_df['label'].value_counts() * 100/len(train_df))\n",
    "print(np.bincount(submit_predictions)* 100 / len(submit_predictions))\n",
    "\n",
    "## Create Submit Dataframe\n",
    "submit_predictions_df = pd.DataFrame()\n",
    "submit_predictions_df['id'] = test_df['id']\n",
    "submit_predictions_df['label'] = submit_predictions\n",
    "\n",
    "## Plot Genuine and Fake News\n",
    "sns.countplot(submit_predictions, palette='Set3')\n",
    "plt.title(\"Count of Genuine and Fake News of the Test Data\")\n",
    "plt.show()\n",
    "\n",
    "submit_predictions_df.head()"
   ]
  },
  {
   "cell_type": "code",
   "execution_count": 51,
   "metadata": {
    "id": "5owYocCpMCHW"
   },
   "outputs": [],
   "source": [
    "submit_predictions_df.to_csv('kaggle_submissions/submit.csv',index=False)"
   ]
  },
  {
   "cell_type": "markdown",
   "metadata": {},
   "source": [
    "Finally, uploaded my submission on Kaggle and checked the result."
   ]
  },
  {
   "attachments": {
    "Kaggle%20Submission.PNG": {
     "image/png": "[encoded data removed]"
    }
   },
   "cell_type": "markdown",
   "metadata": {
    "id": "nj7nsFZMMEol"
   },
   "source": [
    "![Kaggle%20Submission.PNG](attachment:Kaggle%20Submission.PNG)"
   ]
  },
  {
   "cell_type": "markdown",
   "metadata": {},
   "source": [
    "Thank you for visiting!"
   ]
  }
 ],
 "metadata": {
  "accelerator": "GPU",
  "colab": {
   "collapsed_sections": [],
   "name": "Predicting Fake News using Machine Learning.ipynb",
   "provenance": [],
   "toc_visible": true
  },
  "kernelspec": {
   "display_name": "Python 3",
   "language": "python",
   "name": "python3"
  },
  "language_info": {
   "codemirror_mode": {
    "name": "ipython",
    "version": 3
   },
   "file_extension": ".py",
   "mimetype": "text/x-python",
   "name": "python",
   "nbconvert_exporter": "python",
   "pygments_lexer": "ipython3",
   "version": "3.8.3"
  },
  "toc": {
   "base_numbering": 1,
   "nav_menu": {},
   "number_sections": true,
   "sideBar": true,
   "skip_h1_title": false,
   "title_cell": "Table of Contents",
   "title_sidebar": "Contents",
   "toc_cell": false,
   "toc_position": {},
   "toc_section_display": true,
   "toc_window_display": true
  },
  "varInspector": {
   "cols": {
    "lenName": 16,
    "lenType": 16,
    "lenVar": 40
   },
   "kernels_config": {
    "python": {
     "delete_cmd_postfix": "",
     "delete_cmd_prefix": "del ",
     "library": "var_list.py",
     "varRefreshCmd": "print(var_dic_list())"
    },
    "r": {
     "delete_cmd_postfix": ") ",
     "delete_cmd_prefix": "rm(",
     "library": "var_list.r",
     "varRefreshCmd": "cat(var_dic_list()) "
    }
   },
   "types_to_exclude": [
    "module",
    "function",
    "builtin_function_or_method",
    "instance",
    "_Feature"
   ],
   "window_display": false
  }
 },
 "nbformat": 4,
 "nbformat_minor": 1
}
